{
 "cells": [
  {
   "cell_type": "code",
   "execution_count": null,
   "metadata": {},
   "outputs": [],
   "source": [
    "import numpy as np\n",
    "import matplotlib.pyplot as plt\n",
    "import itertools\n",
    "from collections import Counter\n",
    "import mpmath\n",
    "from fractions import Fraction\n",
    "from math import floor\n",
    "import pickle\n",
    "import sympy as sp\n",
    "from scipy.optimize import linprog"
   ]
  },
  {
   "cell_type": "markdown",
   "metadata": {},
   "source": [
    "It's better to use Fractions, as the computation is exact and the difference between two assortments can become smaller and smaller as the stock increases, until it's less than the cumulative effect of float errors."
   ]
  },
  {
   "cell_type": "markdown",
   "metadata": {},
   "source": [
    "# MNL and cardinality constraints"
   ]
  },
  {
   "cell_type": "markdown",
   "metadata": {},
   "source": [
    "Put $k = len(l)$ for having the unconstrained problem."
   ]
  },
  {
   "cell_type": "code",
   "execution_count": null,
   "metadata": {},
   "outputs": [],
   "source": [
    "# compute E[T_{l1,..,lN}] given the assortment offered at the first step\n",
    "def T(l, S, list_v, k, memory, assortment):\n",
    "    \"\"\"Compute the total expected number of customer required to clear the stock,\n",
    "    for a policy who offers first the assortment S until a product is selected by a customer, then it follows the optimal policy. \n",
    "\n",
    "    Args:\n",
    "        l (list of integers): the current stock\n",
    "        S (set): the first assortment offered to the customers, until a product is selected by a customer\n",
    "        list_v (list): list of the preference weights, without the no-purchase\n",
    "        k (int): cardinality constraint\n",
    "        memory (dictionary): dictionary, where the keys are the states of the stock\n",
    "        assortment (dictionary): dictionary, where the keys are the states of the stock, and the values are the optimal assortment correponding to that stock.\n",
    "\n",
    "    Returns:\n",
    "        float: the total expected time\n",
    "    \"\"\"\n",
    "    I_N = np.identity(len(list_v)) #identity matrix\n",
    "    T = Fraction(1,1) #initialization of T\n",
    "    V_S = Fraction(0,1) #Initialization of V(S)\n",
    "    for i in S :\n",
    "        V_S = V_S + list_v[i] # V(S) update\n",
    "        if tuple(l - I_N[i]) in memory : # if the state l - e_i was already computed, we use this value\n",
    "            Ti = memory[tuple(l - I_N[i])]\n",
    "        else : #otherwise, we do the computation\n",
    "            Ti = f(l - I_N[i],k, list_v, memory, assortment)[0]\n",
    "        T = T + list_v[i] *Ti # Update of T\n",
    "    return T/V_S + Fraction(1,1) \n",
    "\n",
    "# compute the subsets of cardinality at most k\n",
    "def generate_subsets_up_to_k(elements, k):\n",
    "    \"\"\"Generate a list of the subsets of elements, of cardinality at most k\n",
    "\n",
    "    Args:\n",
    "        elements (list): list of the products which are still in stock\n",
    "        k (int): cardinality constraint\n",
    "\n",
    "    Returns:\n",
    "        list: list of the subsets of elements, of cardinality at most k\n",
    "    \"\"\"\n",
    "    subsets = []\n",
    "    n = len(elements) # number of products which are still in stock\n",
    "    for i in range(1 << n):  # Nombre de sous-ensembles possibles = 2^n\n",
    "        subset = [elements[j] for j in range(n) if (i & (1 << j))]\n",
    "        if len(subset) <= k and len(subset) >= 1:\n",
    "            subsets.append(subset)\n",
    "    return subsets\n",
    "\n",
    "# compute the feasible assortments\n",
    "def set_assortments(l,k):\n",
    "    \"\"\"Return the list of the feasible assortments\n",
    "\n",
    "    Args:\n",
    "        l (list of int): current stock\n",
    "        k (int): cardinality constraint\n",
    "\n",
    "    Returns:\n",
    "        list: list of the feasible assortments\n",
    "    \"\"\"\n",
    "    N_assortment = [i for i in range(len(l)) if l[i] > 0] #list of the products which are still in stock\n",
    "    return generate_subsets_up_to_k(N_assortment, k)\n",
    "\n",
    "# compute the assortment corresponding to the minimum, and the value of the minimum\n",
    "def f(l, k, list_v, memory, assortment) :\n",
    "    \"\"\"Return the optimal value, after exploring all the feasible solutions.\n",
    "\n",
    "    Args:\n",
    "        l (list of integers): the current stock\n",
    "        k (int): cardinality constraint\n",
    "        list_v (list): list of the preference weights, without the no-purchase\n",
    "        memory (dictionary): dictionary, where the keys are the states of the stock\n",
    "        assortment (dictionary): dictionary, where the keys are the states of the stock, and the values are the optimal assortment correponding to that stock\n",
    "\n",
    "    Returns:\n",
    "        float or Fraction: optimal value\n",
    "        list : optimal assortment\n",
    "        dictionary : dictionary, where the keys are the states of the stock\n",
    "        dictionary: dictionary, where the keys are the states of the stock, and the values are the optimal assortment correponding to that stock\n",
    "\n",
    "    \"\"\"\n",
    "    if tuple(l) in memory : # If it was already computed, we return this value\n",
    "        return memory[tuple(l)], assortment[tuple(l)], memory, assortment\n",
    "    S_set = set_assortments(l,k) #Compute the list of the feasible assortments\n",
    "    S_min = []\n",
    "    T_min = float('inf')\n",
    "    for S in S_set : #Exploring all the feasible solutions\n",
    "        T_s = T(l, S, list_v, k, memory, assortment)\n",
    "        if T_s < T_min: #Updating the optimal assortment and the optimal value\n",
    "            T_min = T_s\n",
    "            S_min = S\n",
    "    assortment[tuple(l)] = S_min #Updating the dictionaries\n",
    "    memory[tuple(l)] = T_min\n",
    "    return T_min, S_min, memory, assortment\n",
    "\n",
    "def solution_opt(l,k, list_v, memory, assortment):\n",
    "    \"\"\"Return the dictionaries corresponding to the optimal solution\n",
    "\n",
    "    Args:\n",
    "        l (list of integers): the current stock\n",
    "        k (int): cardinality constraint\n",
    "        list_v (list): list of the preference weights, without the no-purchase\n",
    "        memory (dictionary): dictionary, where the keys are the states of the stock\n",
    "        assortment (dictionary): dictionary, where the keys are the states of the stock, and the values are the optimal assortment correponding to that stock\n",
    "\n",
    "    Returns:\n",
    "        dictionary : dictionary, where the keys are the states of the stock\n",
    "        dictionary: dictionary, where the keys are the states of the stock, and the values are the optimal assortment correponding to that stock.\n",
    "    \"\"\"\n",
    "    N = len(l)\n",
    "    if tuple([0 for i in range(N)]) not in memory : #initialization of the dictionaries\n",
    "        memory[tuple([0 for i in range(N)])] = Fraction(0,1)\n",
    "        assortment[tuple([0 for i in range(N)])] = []\n",
    "    if np.sum(l) == 0 :\n",
    "        return Fraction(0,1),[]\n",
    "    return f(l,k,list_v, memory, assortment)[2:4]"
   ]
  },
  {
   "cell_type": "code",
   "execution_count": null,
   "metadata": {},
   "outputs": [],
   "source": [
    "memory = {}\n",
    "assortment = {}\n",
    "list_v = [Fraction(1,1), Fraction(4,1), Fraction(5,1)]"
   ]
  },
  {
   "cell_type": "code",
   "execution_count": null,
   "metadata": {},
   "outputs": [],
   "source": [
    "# If you modify the preference weights, you need to reset the dictionaries\n",
    "list_l = [10,10,10]\n",
    "memory, assortment = solution_opt(list_l,2,list_v, memory, assortment)"
   ]
  },
  {
   "cell_type": "code",
   "execution_count": null,
   "metadata": {},
   "outputs": [
    {
     "data": {
      "text/plain": [
       "Fraction(737, 180)"
      ]
     },
     "metadata": {},
     "output_type": "display_data"
    }
   ],
   "source": [
    "memory[1,1,1]"
   ]
  }
 ],
 "metadata": {
  "language_info": {
   "name": "python"
  }
 },
 "nbformat": 4,
 "nbformat_minor": 2
}
