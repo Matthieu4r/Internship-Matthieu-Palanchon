{
 "cells": [
  {
   "cell_type": "code",
   "execution_count": 1,
   "metadata": {},
   "outputs": [],
   "source": [
    "import numpy as np\n",
    "import numpy as np\n",
    "import matplotlib.pyplot as plt\n",
    "import itertools\n",
    "from collections import Counter\n",
    "import mpmath\n",
    "from fractions import Fraction\n",
    "from math import floor\n",
    "import pickle\n",
    "import random\n",
    "\n",
    "from scipy.optimize import linprog"
   ]
  },
  {
   "cell_type": "markdown",
   "metadata": {},
   "source": [
    "It is possible to change the set of assortments, and therefore the constraints."
   ]
  },
  {
   "cell_type": "code",
   "execution_count": 7,
   "metadata": {},
   "outputs": [],
   "source": [
    "# compute the subsets of cardinality at most k\n",
    "def generate_subsets_up_to_k(elements, k):\n",
    "    \"\"\"Generate a list of the subsets of elements, of cardinality at most k\n",
    "\n",
    "    Args:\n",
    "        elements (list): list of the products which are still in stock\n",
    "        k (int): cardinality constraint\n",
    "\n",
    "    Returns:\n",
    "        list: list of the subsets of elements, of cardinality at most k\n",
    "    \"\"\"\n",
    "    subsets = []\n",
    "    n = len(elements) # number of products which are still in stock\n",
    "    for i in range(1 << n):  # Nombre de sous-ensembles possibles = 2^n\n",
    "        subset = [elements[j] for j in range(n) if (i & (1 << j))]\n",
    "        if len(subset) <= k and len(subset) >= 1:\n",
    "            subsets.append(subset)\n",
    "    return subsets\n",
    "\n",
    "# compute the feasible assortments\n",
    "def set_assortments(l,k):\n",
    "    \"\"\"Return the list of the feasible assortments\n",
    "\n",
    "    Args:\n",
    "        l (list of int): current stock\n",
    "        k (int): cardinality constraint\n",
    "\n",
    "    Returns:\n",
    "        list: list of the feasible assortments\n",
    "    \"\"\"\n",
    "    N_assortment = [i for i in range(len(l)) if l[i] > 0] #list of the products which are still in stock\n",
    "    return generate_subsets_up_to_k(N_assortment, k)\n"
   ]
  },
  {
   "cell_type": "markdown",
   "metadata": {},
   "source": [
    "# Optimal solution"
   ]
  },
  {
   "cell_type": "markdown",
   "metadata": {},
   "source": [
    "Put $k = len(l)$ for having the unconstrained problem."
   ]
  },
  {
   "cell_type": "code",
   "execution_count": 2,
   "metadata": {},
   "outputs": [],
   "source": [
    "# compute E[T_{l1,..,lN}] given the assortment offered at the first step\n",
    "def T(l, S, list_v, k, memory, assortment):\n",
    "    \"\"\"Compute the total expected number of customer required to clear the stock,\n",
    "    for a policy who offers first the assortment S until a product is selected by a customer, then it follows the optimal policy. \n",
    "\n",
    "    Args:\n",
    "        l (list of integers): the current stock\n",
    "        S (set): the first assortment offered to the customers, until a product is selected by a customer\n",
    "        list_v (list): list of the preference weights, without the no-purchase\n",
    "        k (int): cardinality constraint\n",
    "        memory (dictionary): dictionary, where the keys are the states of the stock\n",
    "        assortment (dictionary): dictionary, where the keys are the states of the stock, and the values are the optimal assortment correponding to that stock.\n",
    "\n",
    "    Returns:\n",
    "        float: the total expected time\n",
    "    \"\"\"\n",
    "    I_N = np.identity(len(list_v)) #identity matrix\n",
    "    T = Fraction(1,1) #initialization of T\n",
    "    V_S = Fraction(0,1) #Initialization of V(S)\n",
    "    for i in S :\n",
    "        V_S = V_S + list_v[i] # V(S) update\n",
    "        if tuple(l - I_N[i]) in memory : # if the state l - e_i was already computed, we use this value\n",
    "            Ti = memory[tuple(l - I_N[i])]\n",
    "        else : #otherwise, we do the computation\n",
    "            Ti = f(l - I_N[i],k, list_v, memory, assortment)[0]\n",
    "        T = T + list_v[i] *Ti # Update of T\n",
    "    return T/V_S + Fraction(1,1) \n",
    "\n",
    "# compute the subsets of cardinality at most k\n",
    "def generate_subsets_up_to_k(elements, k):\n",
    "    \"\"\"Generate a list of the subsets of elements, of cardinality at most k\n",
    "\n",
    "    Args:\n",
    "        elements (list): list of the products which are still in stock\n",
    "        k (int): cardinality constraint\n",
    "\n",
    "    Returns:\n",
    "        list: list of the subsets of elements, of cardinality at most k\n",
    "    \"\"\"\n",
    "    subsets = []\n",
    "    n = len(elements) # number of products which are still in stock\n",
    "    for i in range(1 << n):  # Nombre de sous-ensembles possibles = 2^n\n",
    "        subset = [elements[j] for j in range(n) if (i & (1 << j))]\n",
    "        if len(subset) <= k and len(subset) >= 1:\n",
    "            subsets.append(subset)\n",
    "    return subsets\n",
    "\n",
    "# compute the feasible assortments\n",
    "def set_assortments(l,k):\n",
    "    \"\"\"Return the list of the feasible assortments\n",
    "\n",
    "    Args:\n",
    "        l (list of int): current stock\n",
    "        k (int): cardinality constraint\n",
    "\n",
    "    Returns:\n",
    "        list: list of the feasible assortments\n",
    "    \"\"\"\n",
    "    N_assortment = [i for i in range(len(l)) if l[i] > 0] #list of the products which are still in stock\n",
    "    return generate_subsets_up_to_k(N_assortment, k)\n",
    "\n",
    "# compute the assortment corresponding to the minimum, and the value of the minimum\n",
    "def f(l, k, list_v, memory, assortment) :\n",
    "    \"\"\"Return the optimal value, after exploring all the feasible solutions.\n",
    "\n",
    "    Args:\n",
    "        l (list of integers): the current stock\n",
    "        k (int): cardinality constraint\n",
    "        list_v (list): list of the preference weights, without the no-purchase\n",
    "        memory (dictionary): dictionary, where the keys are the states of the stock\n",
    "        assortment (dictionary): dictionary, where the keys are the states of the stock, and the values are the optimal assortment correponding to that stock\n",
    "\n",
    "    Returns:\n",
    "        float or Fraction: optimal value\n",
    "        list : optimal assortment\n",
    "        dictionary : dictionary, where the keys are the states of the stock\n",
    "        dictionary: dictionary, where the keys are the states of the stock, and the values are the optimal assortment correponding to that stock\n",
    "\n",
    "    \"\"\"\n",
    "    if tuple(l) in memory : # If it was already computed, we return this value\n",
    "        return memory[tuple(l)], assortment[tuple(l)], memory, assortment\n",
    "    S_set = set_assortments(l,k) #Compute the list of the feasible assortments\n",
    "    S_min = []\n",
    "    T_min = float('inf')\n",
    "    for S in S_set : #Exploring all the feasible solutions\n",
    "        T_s = T(l, S, list_v, k, memory, assortment)\n",
    "        if T_s < T_min: #Updating the optimal assortment and the optimal value\n",
    "            T_min = T_s\n",
    "            S_min = S\n",
    "    assortment[tuple(l)] = S_min #Updating the dictionaries\n",
    "    memory[tuple(l)] = T_min\n",
    "    return T_min, S_min, memory, assortment\n",
    "\n",
    "def solution_opt(l,k, list_v, memory, assortment):\n",
    "    \"\"\"Return the dictionaries corresponding to the optimal solution\n",
    "\n",
    "    Args:\n",
    "        l (list of integers): the current stock\n",
    "        k (int): cardinality constraint\n",
    "        list_v (list): list of the preference weights, without the no-purchase\n",
    "        memory (dictionary): dictionary, where the keys are the states of the stock\n",
    "        assortment (dictionary): dictionary, where the keys are the states of the stock, and the values are the optimal assortment correponding to that stock\n",
    "\n",
    "    Returns:\n",
    "        dictionary : dictionary, where the keys are the states of the stock\n",
    "        dictionary: dictionary, where the keys are the states of the stock, and the values are the optimal assortment correponding to that stock.\n",
    "    \"\"\"\n",
    "    N = len(l)\n",
    "    if tuple([0 for i in range(N)]) not in memory : #initialization of the dictionaries\n",
    "        memory[tuple([0 for i in range(N)])] = Fraction(0,1)\n",
    "        assortment[tuple([0 for i in range(N)])] = []\n",
    "    if np.sum(l) == 0 :\n",
    "        return Fraction(0,1),[]\n",
    "    return f(l,k,list_v, memory, assortment)[2:4]"
   ]
  },
  {
   "cell_type": "code",
   "execution_count": 3,
   "metadata": {},
   "outputs": [],
   "source": [
    "memory = {}\n",
    "assortment = {}\n",
    "list_v = [Fraction(1,1), Fraction(4,1), Fraction(5,1)]"
   ]
  },
  {
   "cell_type": "code",
   "execution_count": 4,
   "metadata": {},
   "outputs": [],
   "source": [
    "# If you modify the preference weights, you need to reset the dictionaries\n",
    "list_l = [10,10,10]\n",
    "memory, assortment = solution_opt(list_l,2,list_v, memory, assortment)"
   ]
  },
  {
   "cell_type": "code",
   "execution_count": 5,
   "metadata": {},
   "outputs": [
    {
     "data": {
      "text/plain": [
       "Fraction(737, 180)"
      ]
     },
     "execution_count": 5,
     "metadata": {},
     "output_type": "execute_result"
    }
   ],
   "source": [
    "memory[1,1,1]"
   ]
  },
  {
   "cell_type": "markdown",
   "metadata": {},
   "source": [
    "# Fluid approximation"
   ]
  },
  {
   "cell_type": "code",
   "execution_count": 12,
   "metadata": {},
   "outputs": [],
   "source": [
    "def fluid_approx(list_l,list_v, k):\n",
    "    \"\"\"Compute the fluid approximation\n",
    "\n",
    "    Args:\n",
    "        list_l (list of int): list of the inventory\n",
    "        list_v (list): list of the preference weights, without the no-purchase\n",
    "        k (int): cardinality constraint\n",
    "\n",
    "    Returns:\n",
    "       dictionary : a dictionary of the information about the solution. See the documentation about the linprog function.\n",
    "       solution.x = list of the optimal variables, solution.fun = value of the objective function\n",
    "       dictionary : dictionary of the probability, omega*\n",
    "       float : value of the objective function\n",
    "    \"\"\"\n",
    "    S_0k = set_assortments(list_l, k)\n",
    "    A = np.zeros((len(list_v),len(S_0k)))\n",
    "    for r in range(len(S_0k)):\n",
    "        v = 1/(1 + np.sum(np.array([list_v[y] for y in S_0k[r]])))\n",
    "        for i in S_0k[r]:\n",
    "            A[i,r] = list_v[i] * v\n",
    "    bounds = [(0, None)] * len(S_0k) #variables\n",
    "    b = np.array(list_l)\n",
    "    c = np.array([1 for i in range(len(S_0k))])\n",
    "    result = linprog(c, A_ub=-A, b_ub= -b, bounds=bounds, method='highs')\n",
    "    proba = {}\n",
    "    for i in range(len(S_0k)):\n",
    "        proba[tuple(S_0k[i])] = result.x[i]/result.fun\n",
    "    return result, proba, result.fun"
   ]
  },
  {
   "cell_type": "markdown",
   "metadata": {},
   "source": [
    "# Approximation policy"
   ]
  },
  {
   "cell_type": "code",
   "execution_count": 56,
   "metadata": {},
   "outputs": [],
   "source": [
    "# compute the subsets of cardinality at most k\n",
    "def generate_subsets_up_to_k(elements, k):\n",
    "    \"\"\"Generate a list of the subsets of elements, of cardinality at most k\n",
    "\n",
    "    Args:\n",
    "        elements (list): list of the products which are still in stock\n",
    "        k (int): cardinality constraint\n",
    "\n",
    "    Returns:\n",
    "        list: list of the subsets of elements, of cardinality at most k\n",
    "    \"\"\"\n",
    "    subsets = []\n",
    "    n = len(elements) # number of products which are still in stock\n",
    "    for i in range(1 << n):  # Nombre de sous-ensembles possibles = 2^n\n",
    "        subset = [elements[j] for j in range(n) if (i & (1 << j))]\n",
    "        if len(subset) <= k and len(subset) >= 1:\n",
    "            subsets.append(subset)\n",
    "    return subsets\n",
    "\n",
    "# compute the feasible assortments\n",
    "def set_assortments(l,k):\n",
    "    \"\"\"Return the list of the feasible assortments\n",
    "\n",
    "    Args:\n",
    "        l (list of int): current stock\n",
    "        k (int): cardinality constraint\n",
    "\n",
    "    Returns:\n",
    "        list: list of the feasible assortments\n",
    "    \"\"\"\n",
    "    N_assortment = [i for i in range(len(l))]\n",
    "    return generate_subsets_up_to_k(N_assortment, k)\n",
    "\n",
    "# compute the assortment corresponding to the minimum, and the value of the minimum\n",
    "def f_approx(l, k, list_v, memory, proba) :\n",
    "    \"\"\" Return the expected number of customers to clear the stock for the approximation policy\n",
    "\n",
    "    Args:\n",
    "        l (list of integers): the current stock\n",
    "        k (int): cardinality constraint\n",
    "        list_v (list): list of the preference weights, without the no-purchase\n",
    "        memory (dictionary): dictionary, where the keys are the states of the stock\n",
    "        proba (dictionary) : dictionary, where the  keys are the feasible assortments, and the values are dictionaries,\n",
    "        whose keys are elements of the feasible assortment and the values are the probability of choosing this element knowing that you show this assortment\n",
    "\n",
    "    Returns:\n",
    "        float: the expected number of customers to clear the stock for the approximation policy\n",
    "        dictionary : updated dictionary of the expected number of customers\n",
    "    \"\"\"\n",
    "    if tuple(l) in memory :\n",
    "        return memory[tuple(l)], memory\n",
    "    S_set = set_assortments(l,k)\n",
    "    res = Fraction(0,1)\n",
    "    base = Fraction(0,1)\n",
    "    N_assortment = [i for i in range(len(l)) if l[i] > 0]\n",
    "    for i in N_assortment :\n",
    "        intermed = Fraction(0,1)\n",
    "        for S in S_set :\n",
    "            if i in S:\n",
    "                intermed = intermed + list_v[i]/(1+ np.sum(np.array([list_v[r] for r in S])))*proba[tuple(S)]\n",
    "        tup = [l[j] for j in range(len(l))]\n",
    "        tup[i] = tup[i] - 1\n",
    "        res = res + f_approx(tup,k,list_v, memory, proba)[0] * intermed\n",
    "        base = base + intermed\n",
    "    res = (res + 1) / base\n",
    "    memory[tuple(l)] = res\n",
    "    return res, memory\n",
    "\n",
    "def solution_approx(l,k, list_v, memory):\n",
    "    \"\"\"Return the dictionariy corresponding to the optimal solution\n",
    "\n",
    "    Args:\n",
    "        l (list of integers): the current stock\n",
    "        k (int): cardinality constraint\n",
    "        memory (dictionary): dictionary, where the keys are the states of the stock, and the values the optimal values corresponding to that stock\n",
    "        \n",
    "    Returns:\n",
    "        dictionary : dictionary, where the keys are the states of the stock\n",
    "    \"\"\"\n",
    "    N = len(l)\n",
    "    if tuple([0 for i in range(N)]) not in memory : #initialization of the dictionaries\n",
    "        memory[tuple([0 for i in range(N)])] = Fraction(0,1)\n",
    "    if np.sum(l) == 0 :\n",
    "        return Fraction(0,1)\n",
    "    proba = fluid_approx(l,list_v,k) [1]\n",
    "    return f_approx(l,k,list_v, memory, proba)[1]"
   ]
  },
  {
   "cell_type": "code",
   "execution_count": 57,
   "metadata": {},
   "outputs": [],
   "source": [
    "memory = {}\n",
    "list_v = [Fraction(1,1), Fraction(4,1), Fraction(5,1)]"
   ]
  },
  {
   "cell_type": "code",
   "execution_count": 58,
   "metadata": {},
   "outputs": [],
   "source": [
    "list_l = [10,10,10]\n",
    "memory = solution_approx(list_l,2,list_v, memory)"
   ]
  },
  {
   "cell_type": "code",
   "execution_count": 59,
   "metadata": {},
   "outputs": [
    {
     "data": {
      "text/plain": [
       "1.273414073229726"
      ]
     },
     "execution_count": 59,
     "metadata": {},
     "output_type": "execute_result"
    }
   ],
   "source": [
    "memory[tuple(list_l)]/fluid_approx(list_l,list_v,2)[0].fun"
   ]
  },
  {
   "cell_type": "markdown",
   "metadata": {},
   "source": [
    "# The case of an uniform stock"
   ]
  },
  {
   "cell_type": "code",
   "execution_count": null,
   "metadata": {},
   "outputs": [],
   "source": [
    "dic = {}\n",
    "def K(x):\n",
    "    if np.sum(x) ==0:\n",
    "        dic[tuple(x)] = 0.\n",
    "        return 0, dic\n",
    "    if tuple(x) in dic :\n",
    "        return dic[tuple(x)], dic\n",
    "    tab = [i for i in range(len(x)) if x[i]>0]\n",
    "    res = 0.\n",
    "    for i in tab:\n",
    "        xi = [x[j] for j in range (len(x))]\n",
    "        xi[i] = xi[i] - 1\n",
    "        res = res + K(xi)[0]\n",
    "    dic[tuple(x)] = (1 + res)/len(tab)\n",
    "    return (1 + res)/len(tab), dic"
   ]
  },
  {
   "cell_type": "code",
   "execution_count": null,
   "metadata": {},
   "outputs": [],
   "source": [
    "N = 10\n",
    "tab =np.zeros(N-1)\n",
    "for i in range(1,N):\n",
    "    tab[i-1] = (K([i,i])[0]/i - 1)*2\n",
    "listx = np.array([i for i in range(1,N)])\n",
    "#listf = 1/listx**0.5 + 0.1/listx**0.4 -1/(3*listx**np.exp(1))\n",
    "listf = 1/listx**0.5\n",
    "plt.figure()\n",
    "plt.plot(listx, tab, color = 'r', label = 'K')\n",
    "plt.plot(listx, listf)\n",
    "#plt.plot(listx, (tab - listf), color = 'g')\n",
    "plt.legend()\n",
    "plt.show()"
   ]
  }
 ],
 "metadata": {
  "kernelspec": {
   "display_name": "Python 3",
   "language": "python",
   "name": "python3"
  },
  "language_info": {
   "codemirror_mode": {
    "name": "ipython",
    "version": 3
   },
   "file_extension": ".py",
   "mimetype": "text/x-python",
   "name": "python",
   "nbconvert_exporter": "python",
   "pygments_lexer": "ipython3",
   "version": "3.11.0"
  }
 },
 "nbformat": 4,
 "nbformat_minor": 2
}
